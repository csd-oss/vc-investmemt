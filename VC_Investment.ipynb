{
  "nbformat": 4,
  "nbformat_minor": 0,
  "metadata": {
    "colab": {
      "name": "VC Investment.ipynb",
      "provenance": [],
      "include_colab_link": true
    },
    "kernelspec": {
      "name": "python3",
      "display_name": "Python 3"
    }
  },
  "cells": [
    {
      "cell_type": "markdown",
      "metadata": {
        "id": "view-in-github",
        "colab_type": "text"
      },
      "source": [
        "<a href=\"https://colab.research.google.com/github/csd-oss/vc-investmemt/blob/iss12/VC_Investment.ipynb\" target=\"_parent\"><img src=\"https://colab.research.google.com/assets/colab-badge.svg\" alt=\"Open In Colab\"/></a>"
      ]
    },
    {
      "cell_type": "markdown",
      "metadata": {
        "id": "e0EkCRLhB8XL",
        "colab_type": "text"
      },
      "source": [
        "# General preparation and GDrive conection"
      ]
    },
    {
      "cell_type": "code",
      "metadata": {
        "id": "I0OTz1Y-V09P",
        "colab_type": "code",
        "colab": {}
      },
      "source": [
        "import pandas as pd \n",
        "import matplotlib.pyplot as plt"
      ],
      "execution_count": 0,
      "outputs": []
    },
    {
      "cell_type": "markdown",
      "metadata": {
        "id": "pc_kqSO1CKX3",
        "colab_type": "text"
      },
      "source": [
        "# Uploiding info from [OECD](https://stats.oecd.org/Index.aspx?DataSetCode=VC_INVEST#)"
      ]
    },
    {
      "cell_type": "code",
      "metadata": {
        "id": "l8R-BCD8YRB0",
        "colab_type": "code",
        "colab": {}
      },
      "source": [
        "vc_path = \"https://raw.githubusercontent.com/csd-oss/vc-investmemt/master/VC_INVEST_06042020205501847.csv\"\n",
        "df = pd.read_csv(vc_path)"
      ],
      "execution_count": 0,
      "outputs": []
    },
    {
      "cell_type": "markdown",
      "metadata": {
        "id": "mAzK8NNGCvkH",
        "colab_type": "text"
      },
      "source": [
        "## Droping all not needed info"
      ]
    },
    {
      "cell_type": "code",
      "metadata": {
        "id": "8V7ELJS_bSPw",
        "colab_type": "code",
        "colab": {}
      },
      "source": [
        "df = df.drop(columns=[\"Reference Period Code\",\"Reference Period\",\"Flag Codes\",\"Flags\",\"SUBJECT\",\"Measure\",\"Unit\",\"Year\",\"Subject\",\"SUBJECT\",\"Development stages\"])"
      ],
      "execution_count": 0,
      "outputs": []
    },
    {
      "cell_type": "markdown",
      "metadata": {
        "id": "EJqEB8hSC1x-",
        "colab_type": "text"
      },
      "source": [
        "## Deviding data into 2 dataframes"
      ]
    },
    {
      "cell_type": "code",
      "metadata": {
        "id": "uczeMMp4BSCh",
        "colab_type": "code",
        "colab": {}
      },
      "source": [
        "df_usd = df.query('MEASURE == \"USD_V\"')\n",
        "df_gdp = df.query('MEASURE == \"SH_GDP\"')"
      ],
      "execution_count": 0,
      "outputs": []
    },
    {
      "cell_type": "markdown",
      "metadata": {
        "id": "fFL61sLwDFVi",
        "colab_type": "text"
      },
      "source": [
        "# Playing with USD data"
      ]
    },
    {
      "cell_type": "markdown",
      "metadata": {
        "id": "wdUMgWsbb9BF",
        "colab_type": "text"
      },
      "source": [
        "## Creating filters"
      ]
    },
    {
      "cell_type": "code",
      "metadata": {
        "id": "XlpRf_ziDQmP",
        "colab_type": "code",
        "colab": {}
      },
      "source": [
        "filt_total_us = (df_usd['STAGES'] == \"VC_T\") & (df_usd['LOCATION']== \"USA\")\n",
        "filt_seed_us = (df_usd['STAGES'] == \"SEED\") & (df_usd['LOCATION']== \"USA\")\n",
        "filt_start_us = (df_usd['STAGES'] == \"START\") & (df_usd['LOCATION']== \"USA\")\n",
        "filt_later_us = (df_usd['STAGES'] == \"LATER\") & (df_usd['LOCATION']== \"USA\")"
      ],
      "execution_count": 0,
      "outputs": []
    },
    {
      "cell_type": "markdown",
      "metadata": {
        "id": "FQIoM-2BcBLh",
        "colab_type": "text"
      },
      "source": [
        "## Ploting US VC data "
      ]
    },
    {
      "cell_type": "code",
      "metadata": {
        "id": "CUlOwveFZ2SC",
        "colab_type": "code",
        "colab": {}
      },
      "source": [
        "fig, ax = plt.subplots()\n",
        "plt.style.use(\"ggplot\")\n",
        "\n",
        "ax.plot(df_usd.loc[filt_total_us].TIME, df_usd.loc[filt_total_us].Value, label = \"Total\")\n",
        "ax.plot(df_usd.loc[filt_seed_us].TIME, df_usd.loc[filt_seed_us].Value, label = \"Seed\")\n",
        "ax.plot(df_usd.loc[filt_start_us].TIME, df_usd.loc[filt_start_us].Value, label = \"Series A\")\n",
        "ax.plot(df_usd.loc[filt_later_us].TIME, df_usd.loc[filt_later_us].Value, label = \"Later Stages\")\n",
        "\n",
        "ax.set_xlabel(\"Years\")\n",
        "ax.set_label(\"Millions US$\")\n",
        "ax.set_title(\"USA VC investment\")\n",
        "ax.grid(True)\n",
        "ax.legend()\n",
        "\n",
        "plt.show()"
      ],
      "execution_count": 0,
      "outputs": []
    },
    {
      "cell_type": "markdown",
      "metadata": {
        "id": "QdrPA0ctv-bB",
        "colab_type": "text"
      },
      "source": [
        "# Playing with GDP data"
      ]
    },
    {
      "cell_type": "code",
      "metadata": {
        "id": "u3d_GB5mwGty",
        "colab_type": "code",
        "colab": {}
      },
      "source": [
        "filt_total_us = (df_gdp['STAGES'] == \"VC_T\") & (df_gdp['LOCATION']== \"USA\")\n",
        "filt_seed_us = (df_gdp['STAGES'] == \"SEED\") & (df_gdp['LOCATION']== \"USA\")\n",
        "filt_start_us = (df_gdp['STAGES'] == \"START\") & (df_gdp['LOCATION']== \"USA\")\n",
        "filt_later_us = (df_gdp['STAGES'] == \"LATER\") & (df_gdp['LOCATION']== \"USA\")"
      ],
      "execution_count": 0,
      "outputs": []
    },
    {
      "cell_type": "code",
      "metadata": {
        "id": "SdtkpjwnweEa",
        "colab_type": "code",
        "colab": {}
      },
      "source": [
        "fig, ax = plt.subplots()\n",
        "plt.style.use(\"ggplot\")\n",
        "\n",
        "ax.plot(df_gdp.loc[filt_total_us].TIME, df_gdp.loc[filt_total_us].Value, label = \"Total\")\n",
        "ax.plot(df_gdp.loc[filt_seed_us].TIME, df_gdp.loc[filt_seed_us].Value, label = \"Seed\")\n",
        "ax.plot(df_gdp.loc[filt_start_us].TIME, df_gdp.loc[filt_start_us].Value, label = \"Series A\")\n",
        "ax.plot(df_gdp.loc[filt_later_us].TIME, df_gdp.loc[filt_later_us].Value, label = \"Later Stages\")\n",
        "\n",
        "ax.set_xlabel(\"Years\")\n",
        "ax.set_label(\"%GDP\")\n",
        "ax.set_title(\"USA VC investment\")\n",
        "ax.grid(True)\n",
        "ax.legend()\n",
        "\n",
        "plt.show()"
      ],
      "execution_count": 0,
      "outputs": []
    },
    {
      "cell_type": "markdown",
      "metadata": {
        "id": "aMUqCt75qfxq",
        "colab_type": "text"
      },
      "source": [
        "# Countries Yearly Sum"
      ]
    },
    {
      "cell_type": "code",
      "metadata": {
        "id": "6-yrqLZD2Dfy",
        "colab_type": "code",
        "colab": {}
      },
      "source": [
        "filt_total = (df_usd['STAGES'] == \"VC_T\") & (df_usd['TIME'] >= 2007) #not enoght data till 2007\n",
        "df_usd[filt_total].groupby(['TIME'])['Value'].sum().plot()\n",
        "plt.title('Total investment')\n",
        "plt.ylabel('Millions USD')\n",
        "plt.show()"
      ],
      "execution_count": 0,
      "outputs": []
    },
    {
      "cell_type": "markdown",
      "metadata": {
        "id": "XPWlyh2HxVkn",
        "colab_type": "text"
      },
      "source": [
        "# Countries Yearly mean GDP Share"
      ]
    },
    {
      "cell_type": "code",
      "metadata": {
        "id": "izQ7TKLPxc3H",
        "colab_type": "code",
        "colab": {}
      },
      "source": [
        "filt_total = (df_gdp['STAGES'] == \"VC_T\") & (df_gdp['TIME'] >= 2007) #not enoght data till 2007\n",
        "df_gdp[filt_total].groupby(['TIME'])['Value'].mean().plot()\n",
        "plt.title('Total investment')\n",
        "plt.ylabel('% GDP')\n",
        "plt.show()"
      ],
      "execution_count": 0,
      "outputs": []
    },
    {
      "cell_type": "markdown",
      "metadata": {
        "id": "6FZ5yJNVG8PI",
        "colab_type": "text"
      },
      "source": [
        "# 2018 Pie Chart creation"
      ]
    },
    {
      "cell_type": "code",
      "metadata": {
        "id": "1DgU_CoSHTGI",
        "colab_type": "code",
        "colab": {},
        "cellView": "form"
      },
      "source": [
        "#@title\n",
        "filt_total_2018 = (df_usd['TIME']==2018)&(df_usd['STAGES']=='VC_T') \n",
        "filt_other = df_usd['Value'] > 2185.094678\n",
        "pie_2018 = df_usd[filt_total_2018 & filt_other]\n",
        "pie_2018.drop(columns=['STAGES','MEASURE','TIME','Unit Code','PowerCode Code','PowerCode'], inplace=True)\n",
        "pie_2018"
      ],
      "execution_count": 0,
      "outputs": []
    },
    {
      "cell_type": "code",
      "metadata": {
        "id": "0GQyhHWPeMzm",
        "colab_type": "code",
        "colab": {}
      },
      "source": [
        "pie_2018.loc[1]=['OTH', 'Other', df_usd[filt_total_2018 & ~filt_other]['Value'].sum()]\n",
        "pie_2018"
      ],
      "execution_count": 0,
      "outputs": []
    },
    {
      "cell_type": "code",
      "metadata": {
        "id": "ZQ53QDNVUE45",
        "colab_type": "code",
        "colab": {}
      },
      "source": [
        "expl = [0,0.1,0]\n",
        "plt.figure(figsize=(40,10))\n",
        "plt.pie(pie_2018['Value'], explode=expl)\n",
        "plt.legend(pie_2018['Country'],fontsize='11',loc='best')\n",
        "# plt.style.use('qqplot')\n",
        "plt.title('2018 Total Investment',fontdict={'fontsize':'20'},loc='left')\n",
        "plt.show()"
      ],
      "execution_count": 0,
      "outputs": []
    }
  ]
}