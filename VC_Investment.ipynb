{
  "nbformat": 4,
  "nbformat_minor": 0,
  "metadata": {
    "colab": {
      "name": "VC Investment.ipynb",
      "provenance": [],
      "include_colab_link": true
    },
    "kernelspec": {
      "name": "python3",
      "display_name": "Python 3"
    }
  },
  "cells": [
    {
      "cell_type": "markdown",
      "metadata": {
        "id": "view-in-github",
        "colab_type": "text"
      },
      "source": [
        "<a href=\"https://colab.research.google.com/github/csd-oss/vc-investmemt/blob/iss2/VC_Investment.ipynb\" target=\"_parent\"><img src=\"https://colab.research.google.com/assets/colab-badge.svg\" alt=\"Open In Colab\"/></a>"
      ]
    },
    {
      "cell_type": "markdown",
      "metadata": {
        "id": "e0EkCRLhB8XL",
        "colab_type": "text"
      },
      "source": [
        "# General preparation and GDrive conection"
      ]
    },
    {
      "cell_type": "code",
      "metadata": {
        "id": "I0OTz1Y-V09P",
        "colab_type": "code",
        "colab": {}
      },
      "source": [
        "import pandas as pd \n",
        "import matplotlib.pyplot as plt"
      ],
      "execution_count": 0,
      "outputs": []
    },
    {
      "cell_type": "markdown",
      "metadata": {
        "id": "pc_kqSO1CKX3",
        "colab_type": "text"
      },
      "source": [
        "# Uploiding info from [OECD](https://stats.oecd.org/Index.aspx?DataSetCode=VC_INVEST#)"
      ]
    },
    {
      "cell_type": "code",
      "metadata": {
        "id": "l8R-BCD8YRB0",
        "colab_type": "code",
        "outputId": "52ed822b-12c8-41a4-ca2d-7d2a4cea225e",
        "colab": {
          "base_uri": "https://localhost:8080/",
          "height": 813
        }
      },
      "source": [
        "vc_path = \"https://raw.githubusercontent.com/csd-oss/vc-investmemt/master/VC_INVEST_06042020205501847.csv\"\n",
        "df = pd.read_csv(vc_path)\n",
        "df"
      ],
      "execution_count": 3,
      "outputs": [
        {
          "output_type": "execute_result",
          "data": {
            "text/html": [
              "<div>\n",
              "<style scoped>\n",
              "    .dataframe tbody tr th:only-of-type {\n",
              "        vertical-align: middle;\n",
              "    }\n",
              "\n",
              "    .dataframe tbody tr th {\n",
              "        vertical-align: top;\n",
              "    }\n",
              "\n",
              "    .dataframe thead th {\n",
              "        text-align: right;\n",
              "    }\n",
              "</style>\n",
              "<table border=\"1\" class=\"dataframe\">\n",
              "  <thead>\n",
              "    <tr style=\"text-align: right;\">\n",
              "      <th></th>\n",
              "      <th>LOCATION</th>\n",
              "      <th>Country</th>\n",
              "      <th>SUBJECT</th>\n",
              "      <th>Subject</th>\n",
              "      <th>STAGES</th>\n",
              "      <th>Development stages</th>\n",
              "      <th>MEASURE</th>\n",
              "      <th>Measure</th>\n",
              "      <th>TIME</th>\n",
              "      <th>Year</th>\n",
              "      <th>Unit Code</th>\n",
              "      <th>Unit</th>\n",
              "      <th>PowerCode Code</th>\n",
              "      <th>PowerCode</th>\n",
              "      <th>Reference Period Code</th>\n",
              "      <th>Reference Period</th>\n",
              "      <th>Value</th>\n",
              "      <th>Flag Codes</th>\n",
              "      <th>Flags</th>\n",
              "    </tr>\n",
              "  </thead>\n",
              "  <tbody>\n",
              "    <tr>\n",
              "      <th>0</th>\n",
              "      <td>AUS</td>\n",
              "      <td>Australia</td>\n",
              "      <td>VC_INV</td>\n",
              "      <td>Venture capital investments</td>\n",
              "      <td>VC_T</td>\n",
              "      <td>Total</td>\n",
              "      <td>USD_V</td>\n",
              "      <td>USD, current prices</td>\n",
              "      <td>2006</td>\n",
              "      <td>2006</td>\n",
              "      <td>USD</td>\n",
              "      <td>US Dollar</td>\n",
              "      <td>6</td>\n",
              "      <td>Millions</td>\n",
              "      <td>NaN</td>\n",
              "      <td>NaN</td>\n",
              "      <td>456.334579</td>\n",
              "      <td>NaN</td>\n",
              "      <td>NaN</td>\n",
              "    </tr>\n",
              "    <tr>\n",
              "      <th>1</th>\n",
              "      <td>AUS</td>\n",
              "      <td>Australia</td>\n",
              "      <td>VC_INV</td>\n",
              "      <td>Venture capital investments</td>\n",
              "      <td>VC_T</td>\n",
              "      <td>Total</td>\n",
              "      <td>USD_V</td>\n",
              "      <td>USD, current prices</td>\n",
              "      <td>2007</td>\n",
              "      <td>2007</td>\n",
              "      <td>USD</td>\n",
              "      <td>US Dollar</td>\n",
              "      <td>6</td>\n",
              "      <td>Millions</td>\n",
              "      <td>NaN</td>\n",
              "      <td>NaN</td>\n",
              "      <td>680.293170</td>\n",
              "      <td>NaN</td>\n",
              "      <td>NaN</td>\n",
              "    </tr>\n",
              "    <tr>\n",
              "      <th>2</th>\n",
              "      <td>AUS</td>\n",
              "      <td>Australia</td>\n",
              "      <td>VC_INV</td>\n",
              "      <td>Venture capital investments</td>\n",
              "      <td>VC_T</td>\n",
              "      <td>Total</td>\n",
              "      <td>USD_V</td>\n",
              "      <td>USD, current prices</td>\n",
              "      <td>2008</td>\n",
              "      <td>2008</td>\n",
              "      <td>USD</td>\n",
              "      <td>US Dollar</td>\n",
              "      <td>6</td>\n",
              "      <td>Millions</td>\n",
              "      <td>NaN</td>\n",
              "      <td>NaN</td>\n",
              "      <td>755.759626</td>\n",
              "      <td>NaN</td>\n",
              "      <td>NaN</td>\n",
              "    </tr>\n",
              "    <tr>\n",
              "      <th>3</th>\n",
              "      <td>AUS</td>\n",
              "      <td>Australia</td>\n",
              "      <td>VC_INV</td>\n",
              "      <td>Venture capital investments</td>\n",
              "      <td>VC_T</td>\n",
              "      <td>Total</td>\n",
              "      <td>USD_V</td>\n",
              "      <td>USD, current prices</td>\n",
              "      <td>2009</td>\n",
              "      <td>2009</td>\n",
              "      <td>USD</td>\n",
              "      <td>US Dollar</td>\n",
              "      <td>6</td>\n",
              "      <td>Millions</td>\n",
              "      <td>NaN</td>\n",
              "      <td>NaN</td>\n",
              "      <td>532.682779</td>\n",
              "      <td>NaN</td>\n",
              "      <td>NaN</td>\n",
              "    </tr>\n",
              "    <tr>\n",
              "      <th>4</th>\n",
              "      <td>AUS</td>\n",
              "      <td>Australia</td>\n",
              "      <td>VC_INV</td>\n",
              "      <td>Venture capital investments</td>\n",
              "      <td>VC_T</td>\n",
              "      <td>Total</td>\n",
              "      <td>USD_V</td>\n",
              "      <td>USD, current prices</td>\n",
              "      <td>2010</td>\n",
              "      <td>2010</td>\n",
              "      <td>USD</td>\n",
              "      <td>US Dollar</td>\n",
              "      <td>6</td>\n",
              "      <td>Millions</td>\n",
              "      <td>NaN</td>\n",
              "      <td>NaN</td>\n",
              "      <td>367.836251</td>\n",
              "      <td>NaN</td>\n",
              "      <td>NaN</td>\n",
              "    </tr>\n",
              "    <tr>\n",
              "      <th>...</th>\n",
              "      <td>...</td>\n",
              "      <td>...</td>\n",
              "      <td>...</td>\n",
              "      <td>...</td>\n",
              "      <td>...</td>\n",
              "      <td>...</td>\n",
              "      <td>...</td>\n",
              "      <td>...</td>\n",
              "      <td>...</td>\n",
              "      <td>...</td>\n",
              "      <td>...</td>\n",
              "      <td>...</td>\n",
              "      <td>...</td>\n",
              "      <td>...</td>\n",
              "      <td>...</td>\n",
              "      <td>...</td>\n",
              "      <td>...</td>\n",
              "      <td>...</td>\n",
              "      <td>...</td>\n",
              "    </tr>\n",
              "    <tr>\n",
              "      <th>2773</th>\n",
              "      <td>ZAF</td>\n",
              "      <td>South Africa</td>\n",
              "      <td>VC_INV</td>\n",
              "      <td>Venture capital investments</td>\n",
              "      <td>VC_T</td>\n",
              "      <td>Total</td>\n",
              "      <td>SH_GDP</td>\n",
              "      <td>Percentage share of GDP</td>\n",
              "      <td>2013</td>\n",
              "      <td>2013</td>\n",
              "      <td>PC</td>\n",
              "      <td>Percentage</td>\n",
              "      <td>0</td>\n",
              "      <td>Units</td>\n",
              "      <td>NaN</td>\n",
              "      <td>NaN</td>\n",
              "      <td>0.043910</td>\n",
              "      <td>NaN</td>\n",
              "      <td>NaN</td>\n",
              "    </tr>\n",
              "    <tr>\n",
              "      <th>2774</th>\n",
              "      <td>ZAF</td>\n",
              "      <td>South Africa</td>\n",
              "      <td>VC_INV</td>\n",
              "      <td>Venture capital investments</td>\n",
              "      <td>VC_T</td>\n",
              "      <td>Total</td>\n",
              "      <td>SH_GDP</td>\n",
              "      <td>Percentage share of GDP</td>\n",
              "      <td>2014</td>\n",
              "      <td>2014</td>\n",
              "      <td>PC</td>\n",
              "      <td>Percentage</td>\n",
              "      <td>0</td>\n",
              "      <td>Units</td>\n",
              "      <td>NaN</td>\n",
              "      <td>NaN</td>\n",
              "      <td>0.068672</td>\n",
              "      <td>NaN</td>\n",
              "      <td>NaN</td>\n",
              "    </tr>\n",
              "    <tr>\n",
              "      <th>2775</th>\n",
              "      <td>ZAF</td>\n",
              "      <td>South Africa</td>\n",
              "      <td>VC_INV</td>\n",
              "      <td>Venture capital investments</td>\n",
              "      <td>VC_T</td>\n",
              "      <td>Total</td>\n",
              "      <td>SH_GDP</td>\n",
              "      <td>Percentage share of GDP</td>\n",
              "      <td>2015</td>\n",
              "      <td>2015</td>\n",
              "      <td>PC</td>\n",
              "      <td>Percentage</td>\n",
              "      <td>0</td>\n",
              "      <td>Units</td>\n",
              "      <td>NaN</td>\n",
              "      <td>NaN</td>\n",
              "      <td>0.027779</td>\n",
              "      <td>NaN</td>\n",
              "      <td>NaN</td>\n",
              "    </tr>\n",
              "    <tr>\n",
              "      <th>2776</th>\n",
              "      <td>ZAF</td>\n",
              "      <td>South Africa</td>\n",
              "      <td>VC_INV</td>\n",
              "      <td>Venture capital investments</td>\n",
              "      <td>VC_T</td>\n",
              "      <td>Total</td>\n",
              "      <td>SH_GDP</td>\n",
              "      <td>Percentage share of GDP</td>\n",
              "      <td>2016</td>\n",
              "      <td>2016</td>\n",
              "      <td>PC</td>\n",
              "      <td>Percentage</td>\n",
              "      <td>0</td>\n",
              "      <td>Units</td>\n",
              "      <td>NaN</td>\n",
              "      <td>NaN</td>\n",
              "      <td>0.043736</td>\n",
              "      <td>NaN</td>\n",
              "      <td>NaN</td>\n",
              "    </tr>\n",
              "    <tr>\n",
              "      <th>2777</th>\n",
              "      <td>ZAF</td>\n",
              "      <td>South Africa</td>\n",
              "      <td>VC_INV</td>\n",
              "      <td>Venture capital investments</td>\n",
              "      <td>VC_T</td>\n",
              "      <td>Total</td>\n",
              "      <td>SH_GDP</td>\n",
              "      <td>Percentage share of GDP</td>\n",
              "      <td>2017</td>\n",
              "      <td>2017</td>\n",
              "      <td>PC</td>\n",
              "      <td>Percentage</td>\n",
              "      <td>0</td>\n",
              "      <td>Units</td>\n",
              "      <td>NaN</td>\n",
              "      <td>NaN</td>\n",
              "      <td>0.199154</td>\n",
              "      <td>NaN</td>\n",
              "      <td>NaN</td>\n",
              "    </tr>\n",
              "  </tbody>\n",
              "</table>\n",
              "<p>2778 rows × 19 columns</p>\n",
              "</div>"
            ],
            "text/plain": [
              "     LOCATION       Country SUBJECT  ...       Value Flag Codes Flags\n",
              "0         AUS     Australia  VC_INV  ...  456.334579        NaN   NaN\n",
              "1         AUS     Australia  VC_INV  ...  680.293170        NaN   NaN\n",
              "2         AUS     Australia  VC_INV  ...  755.759626        NaN   NaN\n",
              "3         AUS     Australia  VC_INV  ...  532.682779        NaN   NaN\n",
              "4         AUS     Australia  VC_INV  ...  367.836251        NaN   NaN\n",
              "...       ...           ...     ...  ...         ...        ...   ...\n",
              "2773      ZAF  South Africa  VC_INV  ...    0.043910        NaN   NaN\n",
              "2774      ZAF  South Africa  VC_INV  ...    0.068672        NaN   NaN\n",
              "2775      ZAF  South Africa  VC_INV  ...    0.027779        NaN   NaN\n",
              "2776      ZAF  South Africa  VC_INV  ...    0.043736        NaN   NaN\n",
              "2777      ZAF  South Africa  VC_INV  ...    0.199154        NaN   NaN\n",
              "\n",
              "[2778 rows x 19 columns]"
            ]
          },
          "metadata": {
            "tags": []
          },
          "execution_count": 3
        }
      ]
    },
    {
      "cell_type": "markdown",
      "metadata": {
        "id": "mAzK8NNGCvkH",
        "colab_type": "text"
      },
      "source": [
        "## Droping all not needed info"
      ]
    },
    {
      "cell_type": "code",
      "metadata": {
        "id": "8V7ELJS_bSPw",
        "colab_type": "code",
        "outputId": "3ff5c1d8-b586-414b-b2a6-ee894af279de",
        "colab": {
          "base_uri": "https://localhost:8080/",
          "height": 419
        }
      },
      "source": [
        "df = df.drop(columns=[\"Reference Period Code\",\"Reference Period\",\"Flag Codes\",\"Flags\",\"SUBJECT\",\"Measure\",\"Unit\",\"Year\",\"Subject\",\"SUBJECT\",\"Development stages\"])\n",
        "df"
      ],
      "execution_count": 4,
      "outputs": [
        {
          "output_type": "execute_result",
          "data": {
            "text/html": [
              "<div>\n",
              "<style scoped>\n",
              "    .dataframe tbody tr th:only-of-type {\n",
              "        vertical-align: middle;\n",
              "    }\n",
              "\n",
              "    .dataframe tbody tr th {\n",
              "        vertical-align: top;\n",
              "    }\n",
              "\n",
              "    .dataframe thead th {\n",
              "        text-align: right;\n",
              "    }\n",
              "</style>\n",
              "<table border=\"1\" class=\"dataframe\">\n",
              "  <thead>\n",
              "    <tr style=\"text-align: right;\">\n",
              "      <th></th>\n",
              "      <th>LOCATION</th>\n",
              "      <th>Country</th>\n",
              "      <th>STAGES</th>\n",
              "      <th>MEASURE</th>\n",
              "      <th>TIME</th>\n",
              "      <th>Unit Code</th>\n",
              "      <th>PowerCode Code</th>\n",
              "      <th>PowerCode</th>\n",
              "      <th>Value</th>\n",
              "    </tr>\n",
              "  </thead>\n",
              "  <tbody>\n",
              "    <tr>\n",
              "      <th>0</th>\n",
              "      <td>AUS</td>\n",
              "      <td>Australia</td>\n",
              "      <td>VC_T</td>\n",
              "      <td>USD_V</td>\n",
              "      <td>2006</td>\n",
              "      <td>USD</td>\n",
              "      <td>6</td>\n",
              "      <td>Millions</td>\n",
              "      <td>456.334579</td>\n",
              "    </tr>\n",
              "    <tr>\n",
              "      <th>1</th>\n",
              "      <td>AUS</td>\n",
              "      <td>Australia</td>\n",
              "      <td>VC_T</td>\n",
              "      <td>USD_V</td>\n",
              "      <td>2007</td>\n",
              "      <td>USD</td>\n",
              "      <td>6</td>\n",
              "      <td>Millions</td>\n",
              "      <td>680.293170</td>\n",
              "    </tr>\n",
              "    <tr>\n",
              "      <th>2</th>\n",
              "      <td>AUS</td>\n",
              "      <td>Australia</td>\n",
              "      <td>VC_T</td>\n",
              "      <td>USD_V</td>\n",
              "      <td>2008</td>\n",
              "      <td>USD</td>\n",
              "      <td>6</td>\n",
              "      <td>Millions</td>\n",
              "      <td>755.759626</td>\n",
              "    </tr>\n",
              "    <tr>\n",
              "      <th>3</th>\n",
              "      <td>AUS</td>\n",
              "      <td>Australia</td>\n",
              "      <td>VC_T</td>\n",
              "      <td>USD_V</td>\n",
              "      <td>2009</td>\n",
              "      <td>USD</td>\n",
              "      <td>6</td>\n",
              "      <td>Millions</td>\n",
              "      <td>532.682779</td>\n",
              "    </tr>\n",
              "    <tr>\n",
              "      <th>4</th>\n",
              "      <td>AUS</td>\n",
              "      <td>Australia</td>\n",
              "      <td>VC_T</td>\n",
              "      <td>USD_V</td>\n",
              "      <td>2010</td>\n",
              "      <td>USD</td>\n",
              "      <td>6</td>\n",
              "      <td>Millions</td>\n",
              "      <td>367.836251</td>\n",
              "    </tr>\n",
              "    <tr>\n",
              "      <th>...</th>\n",
              "      <td>...</td>\n",
              "      <td>...</td>\n",
              "      <td>...</td>\n",
              "      <td>...</td>\n",
              "      <td>...</td>\n",
              "      <td>...</td>\n",
              "      <td>...</td>\n",
              "      <td>...</td>\n",
              "      <td>...</td>\n",
              "    </tr>\n",
              "    <tr>\n",
              "      <th>2773</th>\n",
              "      <td>ZAF</td>\n",
              "      <td>South Africa</td>\n",
              "      <td>VC_T</td>\n",
              "      <td>SH_GDP</td>\n",
              "      <td>2013</td>\n",
              "      <td>PC</td>\n",
              "      <td>0</td>\n",
              "      <td>Units</td>\n",
              "      <td>0.043910</td>\n",
              "    </tr>\n",
              "    <tr>\n",
              "      <th>2774</th>\n",
              "      <td>ZAF</td>\n",
              "      <td>South Africa</td>\n",
              "      <td>VC_T</td>\n",
              "      <td>SH_GDP</td>\n",
              "      <td>2014</td>\n",
              "      <td>PC</td>\n",
              "      <td>0</td>\n",
              "      <td>Units</td>\n",
              "      <td>0.068672</td>\n",
              "    </tr>\n",
              "    <tr>\n",
              "      <th>2775</th>\n",
              "      <td>ZAF</td>\n",
              "      <td>South Africa</td>\n",
              "      <td>VC_T</td>\n",
              "      <td>SH_GDP</td>\n",
              "      <td>2015</td>\n",
              "      <td>PC</td>\n",
              "      <td>0</td>\n",
              "      <td>Units</td>\n",
              "      <td>0.027779</td>\n",
              "    </tr>\n",
              "    <tr>\n",
              "      <th>2776</th>\n",
              "      <td>ZAF</td>\n",
              "      <td>South Africa</td>\n",
              "      <td>VC_T</td>\n",
              "      <td>SH_GDP</td>\n",
              "      <td>2016</td>\n",
              "      <td>PC</td>\n",
              "      <td>0</td>\n",
              "      <td>Units</td>\n",
              "      <td>0.043736</td>\n",
              "    </tr>\n",
              "    <tr>\n",
              "      <th>2777</th>\n",
              "      <td>ZAF</td>\n",
              "      <td>South Africa</td>\n",
              "      <td>VC_T</td>\n",
              "      <td>SH_GDP</td>\n",
              "      <td>2017</td>\n",
              "      <td>PC</td>\n",
              "      <td>0</td>\n",
              "      <td>Units</td>\n",
              "      <td>0.199154</td>\n",
              "    </tr>\n",
              "  </tbody>\n",
              "</table>\n",
              "<p>2778 rows × 9 columns</p>\n",
              "</div>"
            ],
            "text/plain": [
              "     LOCATION       Country STAGES  ... PowerCode Code  PowerCode       Value\n",
              "0         AUS     Australia   VC_T  ...              6   Millions  456.334579\n",
              "1         AUS     Australia   VC_T  ...              6   Millions  680.293170\n",
              "2         AUS     Australia   VC_T  ...              6   Millions  755.759626\n",
              "3         AUS     Australia   VC_T  ...              6   Millions  532.682779\n",
              "4         AUS     Australia   VC_T  ...              6   Millions  367.836251\n",
              "...       ...           ...    ...  ...            ...        ...         ...\n",
              "2773      ZAF  South Africa   VC_T  ...              0      Units    0.043910\n",
              "2774      ZAF  South Africa   VC_T  ...              0      Units    0.068672\n",
              "2775      ZAF  South Africa   VC_T  ...              0      Units    0.027779\n",
              "2776      ZAF  South Africa   VC_T  ...              0      Units    0.043736\n",
              "2777      ZAF  South Africa   VC_T  ...              0      Units    0.199154\n",
              "\n",
              "[2778 rows x 9 columns]"
            ]
          },
          "metadata": {
            "tags": []
          },
          "execution_count": 4
        }
      ]
    },
    {
      "cell_type": "markdown",
      "metadata": {
        "id": "EJqEB8hSC1x-",
        "colab_type": "text"
      },
      "source": [
        "## Deviding data into 2 dataframes"
      ]
    },
    {
      "cell_type": "code",
      "metadata": {
        "id": "uczeMMp4BSCh",
        "colab_type": "code",
        "colab": {}
      },
      "source": [
        "df_usd = df.query('MEASURE == \"USD_V\"')\n",
        "df_gdp = df.query('MEASURE == \"SH_GDP\"')"
      ],
      "execution_count": 0,
      "outputs": []
    },
    {
      "cell_type": "markdown",
      "metadata": {
        "id": "fFL61sLwDFVi",
        "colab_type": "text"
      },
      "source": [
        "# Playing with USD data"
      ]
    },
    {
      "cell_type": "markdown",
      "metadata": {
        "id": "wdUMgWsbb9BF",
        "colab_type": "text"
      },
      "source": [
        "## Creating filters"
      ]
    },
    {
      "cell_type": "code",
      "metadata": {
        "id": "XlpRf_ziDQmP",
        "colab_type": "code",
        "colab": {}
      },
      "source": [
        "filt_total_us = (df_usd['STAGES'] == \"VC_T\") & (df['LOCATION']== \"USA\")\n",
        "filt_seed_us = (df_usd['STAGES'] == \"SEED\") & (df['LOCATION']== \"USA\")\n",
        "filt_start_us = (df_usd['STAGES'] == \"START\") & (df['LOCATION']== \"USA\")\n",
        "filt_later_us = (df_usd['STAGES'] == \"LATER\") & (df['LOCATION']== \"USA\")"
      ],
      "execution_count": 0,
      "outputs": []
    },
    {
      "cell_type": "markdown",
      "metadata": {
        "id": "FQIoM-2BcBLh",
        "colab_type": "text"
      },
      "source": [
        "## Ploting US VC data "
      ]
    },
    {
      "cell_type": "code",
      "metadata": {
        "id": "CUlOwveFZ2SC",
        "colab_type": "code",
        "outputId": "35a2a0a3-f9ae-462a-a2d3-21e83ac20411",
        "colab": {
          "base_uri": "https://localhost:8080/",
          "height": 299
        }
      },
      "source": [
        "fig, ax = plt.subplots()\n",
        "plt.style.use(\"ggplot\")\n",
        "ax.plot(df_usd.loc[filt_total_us].TIME, df_usd.loc[filt_total_us].Value, label = \"Total\")\n",
        "ax.plot(df_usd.loc[filt_seed_us].TIME, df_usd.loc[filt_seed_us].Value, label = \"Seed\")\n",
        "ax.plot(df_usd.loc[filt_start_us].TIME, df_usd.loc[filt_start_us].Value, label = \"Series A\")\n",
        "ax.plot(df_usd.loc[filt_later_us].TIME, df_usd.loc[filt_later_us].Value, label = \"Later Stages\")\n",
        "\n",
        "ax.set_xlabel(\"Years\")\n",
        "ax.set_label(\"Millions US$\")\n",
        "ax.set_title(\"USA VC investment\")\n",
        "ax.grid(True)\n",
        "ax.legend()\n",
        "plt.show()"
      ],
      "execution_count": 15,
      "outputs": [
        {
          "output_type": "display_data",
          "data": {
            "image/png": "[encoded data removed]",
            "text/plain": [
              "<Figure size 432x288 with 1 Axes>"
            ]
          },
          "metadata": {
            "tags": []
          }
        }
      ]
    },
    {
      "cell_type": "markdown",
      "metadata": {
        "id": "aMUqCt75qfxq",
        "colab_type": "text"
      },
      "source": [
        "# Countries Yearly Sum"
      ]
    },
    {
      "cell_type": "code",
      "metadata": {
        "id": "IxAs6pswqlUb",
        "colab_type": "code",
        "colab": {
          "base_uri": "https://localhost:8080/",
          "height": 34
        },
        "outputId": "ed9e5f54-537e-4058-c576-0ca610ec68b9"
      },
      "source": [
        "df_usd.loc[(df_usd['STAGES'] == \"VC_T\") & (df_usd['TIME'] ==2006),\"Value\"].sum()"
      ],
      "execution_count": 20,
      "outputs": [
        {
          "output_type": "execute_result",
          "data": {
            "text/plain": [
              "28807.657229398963"
            ]
          },
          "metadata": {
            "tags": []
          },
          "execution_count": 20
        }
      ]
    },
    {
      "cell_type": "code",
      "metadata": {
        "id": "6-yrqLZD2Dfy",
        "colab_type": "code",
        "colab": {
          "base_uri": "https://localhost:8080/",
          "height": 316
        },
        "outputId": "7f061b7f-6309-45de-b90e-3ddd07f1dfb9"
      },
      "source": [
        "filt_total = df_usd['STAGES'] == \"VC_T\" \n",
        "df_usd[filt_total].groupby(['TIME'])['Value'].sum().plot()\n",
        "plt.title('Total investment')"
      ],
      "execution_count": 61,
      "outputs": [
        {
          "output_type": "execute_result",
          "data": {
            "text/plain": [
              "Text(0.5, 1.0, 'Total investment')"
            ]
          },
          "metadata": {
            "tags": []
          },
          "execution_count": 61
        },
        {
          "output_type": "display_data",
          "data": {
            "image/png": "[encoded data removed]",
            "text/plain": [
              "<Figure size 432x288 with 1 Axes>"
            ]
          },
          "metadata": {
            "tags": []
          }
        }
      ]
    }
  ]
}