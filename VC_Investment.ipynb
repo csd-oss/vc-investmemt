{
  "nbformat": 4,
  "nbformat_minor": 0,
  "metadata": {
    "colab": {
      "name": "VC Investment.ipynb",
      "provenance": [],
      "include_colab_link": true
    },
    "kernelspec": {
      "name": "python3",
      "display_name": "Python 3"
    }
  },
  "cells": [
    {
      "cell_type": "markdown",
      "metadata": {
        "id": "view-in-github",
        "colab_type": "text"
      },
      "source": [
        "<a href=\"https://colab.research.google.com/github/csd-oss/vc-investmemt/blob/iss8/VC_Investment.ipynb\" target=\"_parent\"><img src=\"https://colab.research.google.com/assets/colab-badge.svg\" alt=\"Open In Colab\"/></a>"
      ]
    },
    {
      "cell_type": "markdown",
      "metadata": {
        "id": "e0EkCRLhB8XL",
        "colab_type": "text"
      },
      "source": [
        "# General preparation and GDrive conection"
      ]
    },
    {
      "cell_type": "code",
      "metadata": {
        "id": "I0OTz1Y-V09P",
        "colab_type": "code",
        "colab": {}
      },
      "source": [
        "import pandas as pd \n",
        "import matplotlib.pyplot as plt"
      ],
      "execution_count": 0,
      "outputs": []
    },
    {
      "cell_type": "markdown",
      "metadata": {
        "id": "pc_kqSO1CKX3",
        "colab_type": "text"
      },
      "source": [
        "# Uploiding info from [OECD](https://stats.oecd.org/Index.aspx?DataSetCode=VC_INVEST#)"
      ]
    },
    {
      "cell_type": "code",
      "metadata": {
        "id": "l8R-BCD8YRB0",
        "colab_type": "code",
        "colab": {}
      },
      "source": [
        "vc_path = \"https://raw.githubusercontent.com/csd-oss/vc-investmemt/master/VC_INVEST_06042020205501847.csv\"\n",
        "df = pd.read_csv(vc_path)\n",
        "df"
      ],
      "execution_count": 0,
      "outputs": []
    },
    {
      "cell_type": "markdown",
      "metadata": {
        "id": "mAzK8NNGCvkH",
        "colab_type": "text"
      },
      "source": [
        "## Droping all not needed info"
      ]
    },
    {
      "cell_type": "code",
      "metadata": {
        "id": "8V7ELJS_bSPw",
        "colab_type": "code",
        "colab": {}
      },
      "source": [
        "df = df.drop(columns=[\"Reference Period Code\",\"Reference Period\",\"Flag Codes\",\"Flags\",\"SUBJECT\",\"Measure\",\"Unit\",\"Year\",\"Subject\",\"SUBJECT\",\"Development stages\"])\n",
        "df"
      ],
      "execution_count": 0,
      "outputs": []
    },
    {
      "cell_type": "markdown",
      "metadata": {
        "id": "EJqEB8hSC1x-",
        "colab_type": "text"
      },
      "source": [
        "## Deviding data into 2 dataframes"
      ]
    },
    {
      "cell_type": "code",
      "metadata": {
        "id": "uczeMMp4BSCh",
        "colab_type": "code",
        "colab": {}
      },
      "source": [
        "df_usd = df.query('MEASURE == \"USD_V\"')\n",
        "df_gdp = df.query('MEASURE == \"SH_GDP\"')"
      ],
      "execution_count": 0,
      "outputs": []
    },
    {
      "cell_type": "markdown",
      "metadata": {
        "id": "fFL61sLwDFVi",
        "colab_type": "text"
      },
      "source": [
        "# Playing with USD data"
      ]
    },
    {
      "cell_type": "markdown",
      "metadata": {
        "id": "wdUMgWsbb9BF",
        "colab_type": "text"
      },
      "source": [
        "## Creating filters"
      ]
    },
    {
      "cell_type": "code",
      "metadata": {
        "id": "XlpRf_ziDQmP",
        "colab_type": "code",
        "colab": {}
      },
      "source": [
        "filt_total_us = (df_usd['STAGES'] == \"VC_T\") & (df_usd['LOCATION']== \"USA\")\n",
        "filt_seed_us = (df_usd['STAGES'] == \"SEED\") & (df_usd['LOCATION']== \"USA\")\n",
        "filt_start_us = (df_usd['STAGES'] == \"START\") & (df_usd['LOCATION']== \"USA\")\n",
        "filt_later_us = (df_usd['STAGES'] == \"LATER\") & (df_usd['LOCATION']== \"USA\")"
      ],
      "execution_count": 0,
      "outputs": []
    },
    {
      "cell_type": "markdown",
      "metadata": {
        "id": "FQIoM-2BcBLh",
        "colab_type": "text"
      },
      "source": [
        "## Ploting US VC data "
      ]
    },
    {
      "cell_type": "code",
      "metadata": {
        "id": "CUlOwveFZ2SC",
        "colab_type": "code",
        "colab": {}
      },
      "source": [
        "fig, ax = plt.subplots()\n",
        "plt.style.use(\"ggplot\")\n",
        "ax.plot(df_usd.loc[filt_total_us].TIME, df_usd.loc[filt_total_us].Value, label = \"Total\")\n",
        "ax.plot(df_usd.loc[filt_seed_us].TIME, df_usd.loc[filt_seed_us].Value, label = \"Seed\")\n",
        "ax.plot(df_usd.loc[filt_start_us].TIME, df_usd.loc[filt_start_us].Value, label = \"Series A\")\n",
        "ax.plot(df_usd.loc[filt_later_us].TIME, df_usd.loc[filt_later_us].Value, label = \"Later Stages\")\n",
        "\n",
        "ax.set_xlabel(\"Years\")\n",
        "ax.set_label(\"Millions US$\")\n",
        "ax.set_title(\"USA VC investment\")\n",
        "ax.grid(True)\n",
        "ax.legend()\n",
        "plt.show()"
      ],
      "execution_count": 0,
      "outputs": []
    },
    {
      "cell_type": "markdown",
      "metadata": {
        "id": "QdrPA0ctv-bB",
        "colab_type": "text"
      },
      "source": [
        "# Playing with GDP data"
      ]
    },
    {
      "cell_type": "code",
      "metadata": {
        "id": "u3d_GB5mwGty",
        "colab_type": "code",
        "colab": {
          "base_uri": "https://localhost:8080/",
          "height": 452
        },
        "outputId": "aa85ca71-6acf-46a2-d3ad-a14061636b88"
      },
      "source": [
        "filt_total_us = (df_gdp['STAGES'] == \"VC_T\") & (df_gdp['LOCATION']== \"USA\")\n",
        "filt_seed_us = (df_gdp['STAGES'] == \"SEED\") & (df_gdp['LOCATION']== \"USA\")\n",
        "filt_start_us = (df_gdp['STAGES'] == \"START\") & (df_gdp['LOCATION']== \"USA\")\n",
        "filt_later_us = (df_gdp['STAGES'] == \"LATER\") & (df_gdp['LOCATION']== \"USA\")\n",
        "df_gdp[filt_total_us]"
      ],
      "execution_count": 51,
      "outputs": [
        {
          "output_type": "execute_result",
          "data": {
            "text/html": [
              "<div>\n",
              "<style scoped>\n",
              "    .dataframe tbody tr th:only-of-type {\n",
              "        vertical-align: middle;\n",
              "    }\n",
              "\n",
              "    .dataframe tbody tr th {\n",
              "        vertical-align: top;\n",
              "    }\n",
              "\n",
              "    .dataframe thead th {\n",
              "        text-align: right;\n",
              "    }\n",
              "</style>\n",
              "<table border=\"1\" class=\"dataframe\">\n",
              "  <thead>\n",
              "    <tr style=\"text-align: right;\">\n",
              "      <th></th>\n",
              "      <th>LOCATION</th>\n",
              "      <th>Country</th>\n",
              "      <th>STAGES</th>\n",
              "      <th>MEASURE</th>\n",
              "      <th>TIME</th>\n",
              "      <th>Unit Code</th>\n",
              "      <th>PowerCode Code</th>\n",
              "      <th>PowerCode</th>\n",
              "      <th>Value</th>\n",
              "    </tr>\n",
              "  </thead>\n",
              "  <tbody>\n",
              "    <tr>\n",
              "      <th>2254</th>\n",
              "      <td>USA</td>\n",
              "      <td>United States</td>\n",
              "      <td>VC_T</td>\n",
              "      <td>SH_GDP</td>\n",
              "      <td>2006</td>\n",
              "      <td>PC</td>\n",
              "      <td>0</td>\n",
              "      <td>Units</td>\n",
              "      <td>0.200720</td>\n",
              "    </tr>\n",
              "    <tr>\n",
              "      <th>2255</th>\n",
              "      <td>USA</td>\n",
              "      <td>United States</td>\n",
              "      <td>VC_T</td>\n",
              "      <td>SH_GDP</td>\n",
              "      <td>2007</td>\n",
              "      <td>PC</td>\n",
              "      <td>0</td>\n",
              "      <td>Units</td>\n",
              "      <td>0.238414</td>\n",
              "    </tr>\n",
              "    <tr>\n",
              "      <th>2256</th>\n",
              "      <td>USA</td>\n",
              "      <td>United States</td>\n",
              "      <td>VC_T</td>\n",
              "      <td>SH_GDP</td>\n",
              "      <td>2008</td>\n",
              "      <td>PC</td>\n",
              "      <td>0</td>\n",
              "      <td>Units</td>\n",
              "      <td>0.242241</td>\n",
              "    </tr>\n",
              "    <tr>\n",
              "      <th>2257</th>\n",
              "      <td>USA</td>\n",
              "      <td>United States</td>\n",
              "      <td>VC_T</td>\n",
              "      <td>SH_GDP</td>\n",
              "      <td>2009</td>\n",
              "      <td>PC</td>\n",
              "      <td>0</td>\n",
              "      <td>Units</td>\n",
              "      <td>0.177916</td>\n",
              "    </tr>\n",
              "    <tr>\n",
              "      <th>2258</th>\n",
              "      <td>USA</td>\n",
              "      <td>United States</td>\n",
              "      <td>VC_T</td>\n",
              "      <td>SH_GDP</td>\n",
              "      <td>2010</td>\n",
              "      <td>PC</td>\n",
              "      <td>0</td>\n",
              "      <td>Units</td>\n",
              "      <td>0.196079</td>\n",
              "    </tr>\n",
              "    <tr>\n",
              "      <th>2259</th>\n",
              "      <td>USA</td>\n",
              "      <td>United States</td>\n",
              "      <td>VC_T</td>\n",
              "      <td>SH_GDP</td>\n",
              "      <td>2011</td>\n",
              "      <td>PC</td>\n",
              "      <td>0</td>\n",
              "      <td>Units</td>\n",
              "      <td>0.270818</td>\n",
              "    </tr>\n",
              "    <tr>\n",
              "      <th>2260</th>\n",
              "      <td>USA</td>\n",
              "      <td>United States</td>\n",
              "      <td>VC_T</td>\n",
              "      <td>SH_GDP</td>\n",
              "      <td>2012</td>\n",
              "      <td>PC</td>\n",
              "      <td>0</td>\n",
              "      <td>Units</td>\n",
              "      <td>0.236687</td>\n",
              "    </tr>\n",
              "    <tr>\n",
              "      <th>2261</th>\n",
              "      <td>USA</td>\n",
              "      <td>United States</td>\n",
              "      <td>VC_T</td>\n",
              "      <td>SH_GDP</td>\n",
              "      <td>2013</td>\n",
              "      <td>PC</td>\n",
              "      <td>0</td>\n",
              "      <td>Units</td>\n",
              "      <td>0.262417</td>\n",
              "    </tr>\n",
              "    <tr>\n",
              "      <th>2262</th>\n",
              "      <td>USA</td>\n",
              "      <td>United States</td>\n",
              "      <td>VC_T</td>\n",
              "      <td>SH_GDP</td>\n",
              "      <td>2014</td>\n",
              "      <td>PC</td>\n",
              "      <td>0</td>\n",
              "      <td>Units</td>\n",
              "      <td>0.380222</td>\n",
              "    </tr>\n",
              "    <tr>\n",
              "      <th>2263</th>\n",
              "      <td>USA</td>\n",
              "      <td>United States</td>\n",
              "      <td>VC_T</td>\n",
              "      <td>SH_GDP</td>\n",
              "      <td>2015</td>\n",
              "      <td>PC</td>\n",
              "      <td>0</td>\n",
              "      <td>Units</td>\n",
              "      <td>0.424961</td>\n",
              "    </tr>\n",
              "    <tr>\n",
              "      <th>2264</th>\n",
              "      <td>USA</td>\n",
              "      <td>United States</td>\n",
              "      <td>VC_T</td>\n",
              "      <td>SH_GDP</td>\n",
              "      <td>2016</td>\n",
              "      <td>PC</td>\n",
              "      <td>0</td>\n",
              "      <td>Units</td>\n",
              "      <td>0.383715</td>\n",
              "    </tr>\n",
              "    <tr>\n",
              "      <th>2265</th>\n",
              "      <td>USA</td>\n",
              "      <td>United States</td>\n",
              "      <td>VC_T</td>\n",
              "      <td>SH_GDP</td>\n",
              "      <td>2017</td>\n",
              "      <td>PC</td>\n",
              "      <td>0</td>\n",
              "      <td>Units</td>\n",
              "      <td>0.407736</td>\n",
              "    </tr>\n",
              "    <tr>\n",
              "      <th>2266</th>\n",
              "      <td>USA</td>\n",
              "      <td>United States</td>\n",
              "      <td>VC_T</td>\n",
              "      <td>SH_GDP</td>\n",
              "      <td>2018</td>\n",
              "      <td>PC</td>\n",
              "      <td>0</td>\n",
              "      <td>Units</td>\n",
              "      <td>0.552075</td>\n",
              "    </tr>\n",
              "  </tbody>\n",
              "</table>\n",
              "</div>"
            ],
            "text/plain": [
              "     LOCATION        Country STAGES  ... PowerCode Code  PowerCode     Value\n",
              "2254      USA  United States   VC_T  ...              0      Units  0.200720\n",
              "2255      USA  United States   VC_T  ...              0      Units  0.238414\n",
              "2256      USA  United States   VC_T  ...              0      Units  0.242241\n",
              "2257      USA  United States   VC_T  ...              0      Units  0.177916\n",
              "2258      USA  United States   VC_T  ...              0      Units  0.196079\n",
              "2259      USA  United States   VC_T  ...              0      Units  0.270818\n",
              "2260      USA  United States   VC_T  ...              0      Units  0.236687\n",
              "2261      USA  United States   VC_T  ...              0      Units  0.262417\n",
              "2262      USA  United States   VC_T  ...              0      Units  0.380222\n",
              "2263      USA  United States   VC_T  ...              0      Units  0.424961\n",
              "2264      USA  United States   VC_T  ...              0      Units  0.383715\n",
              "2265      USA  United States   VC_T  ...              0      Units  0.407736\n",
              "2266      USA  United States   VC_T  ...              0      Units  0.552075\n",
              "\n",
              "[13 rows x 9 columns]"
            ]
          },
          "metadata": {
            "tags": []
          },
          "execution_count": 51
        }
      ]
    },
    {
      "cell_type": "markdown",
      "metadata": {
        "id": "aMUqCt75qfxq",
        "colab_type": "text"
      },
      "source": [
        "# Countries Yearly Sum"
      ]
    },
    {
      "cell_type": "code",
      "metadata": {
        "id": "6-yrqLZD2Dfy",
        "colab_type": "code",
        "colab": {}
      },
      "source": [
        "filt_total = (df_usd['STAGES'] == \"VC_T\") & (df_usd['TIME'] >= 2007) #not enoght data till 2007\n",
        "df_usd[filt_total].groupby(['TIME'])['Value'].sum().plot()\n",
        "plt.title('Total investment')\n",
        "plt.ylabel('Millions USD')\n",
        "plt.show()"
      ],
      "execution_count": 0,
      "outputs": []
    },
    {
      "cell_type": "markdown",
      "metadata": {
        "id": "6FZ5yJNVG8PI",
        "colab_type": "text"
      },
      "source": [
        "# 2018 Pie Chart creation"
      ]
    },
    {
      "cell_type": "code",
      "metadata": {
        "id": "1DgU_CoSHTGI",
        "colab_type": "code",
        "colab": {}
      },
      "source": [
        "filt_total_2018 = (df_usd['TIME']==2018)&(df_usd['STAGES']=='VC_T') \n",
        "filt_other = df_usd['Value'] > 2185.094678\n",
        "pie_2018 = df_usd[filt_total_2018 & filt_other]\n",
        "pie_2018.drop(columns=['STAGES','MEASURE','TIME','Unit Code','PowerCode Code','PowerCode'], inplace=True)\n",
        "pie_2018"
      ],
      "execution_count": 0,
      "outputs": []
    },
    {
      "cell_type": "code",
      "metadata": {
        "id": "0GQyhHWPeMzm",
        "colab_type": "code",
        "colab": {}
      },
      "source": [
        "pie_2018.loc[1]=['OTH', 'Other', df_usd[filt_total_2018 & ~filt_other]['Value'].sum()]\n",
        "pie_2018"
      ],
      "execution_count": 0,
      "outputs": []
    },
    {
      "cell_type": "code",
      "metadata": {
        "id": "ZQ53QDNVUE45",
        "colab_type": "code",
        "colab": {}
      },
      "source": [
        "expl = [0,0.1,0]\n",
        "plt.figure(figsize=(40,10))\n",
        "plt.pie(pie_2018['Value'], explode=expl)\n",
        "plt.legend(pie_2018['Country'],fontsize='11',loc='best')\n",
        "# plt.style.use('qqplot')\n",
        "plt.title('2018 Total Investment',fontdict={'fontsize':'20'},loc='left')\n",
        "plt.show()"
      ],
      "execution_count": 0,
      "outputs": []
    }
  ]
}